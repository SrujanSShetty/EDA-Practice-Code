import kagglehub

# Download latest version
path = kagglehub.dataset_download("rabieelkharoua/predict-online-gaming-behavior-dataset")

print("Path to dataset files:", path)