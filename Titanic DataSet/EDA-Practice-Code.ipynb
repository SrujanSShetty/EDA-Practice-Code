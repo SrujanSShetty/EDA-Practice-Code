{
 "cells": [
  {
   "cell_type": "code",
   "execution_count": 2,
   "id": "282f652a-7c52-4385-882d-9e81a3842881",
   "metadata": {},
   "outputs": [],
   "source": [
    "import pandas as pd\n",
    "#load dataset\n",
    " \n",
    "\n",
    "df= pd.read_csv('/Users/srujanshetty/Downloads/titanic.csv')"
   ]
  },
  {
   "cell_type": "code",
   "execution_count": 3,
   "id": "1c696e19-1993-42e1-95fc-20859052cd53",
   "metadata": {},
   "outputs": [
    {
     "name": "stdout",
     "output_type": "stream",
     "text": [
      "     PassengerId  Survived  Pclass  \\\n",
      "0              1         0       3   \n",
      "1              2         1       1   \n",
      "2              3         1       3   \n",
      "3              4         1       1   \n",
      "4              5         0       3   \n",
      "..           ...       ...     ...   \n",
      "886          887         0       2   \n",
      "887          888         1       1   \n",
      "888          889         0       3   \n",
      "889          890         1       1   \n",
      "890          891         0       3   \n",
      "\n",
      "                                                  Name     Sex   Age  SibSp  \\\n",
      "0                              Braund, Mr. Owen Harris    male  22.0      1   \n",
      "1    Cumings, Mrs. John Bradley (Florence Briggs Th...  female  38.0      1   \n",
      "2                               Heikkinen, Miss. Laina  female  26.0      0   \n",
      "3         Futrelle, Mrs. Jacques Heath (Lily May Peel)  female  35.0      1   \n",
      "4                             Allen, Mr. William Henry    male  35.0      0   \n",
      "..                                                 ...     ...   ...    ...   \n",
      "886                              Montvila, Rev. Juozas    male  27.0      0   \n",
      "887                       Graham, Miss. Margaret Edith  female  19.0      0   \n",
      "888           Johnston, Miss. Catherine Helen \"Carrie\"  female   NaN      1   \n",
      "889                              Behr, Mr. Karl Howell    male  26.0      0   \n",
      "890                                Dooley, Mr. Patrick    male  32.0      0   \n",
      "\n",
      "     Parch            Ticket     Fare Cabin Embarked  \n",
      "0        0         A/5 21171   7.2500   NaN        S  \n",
      "1        0          PC 17599  71.2833   C85        C  \n",
      "2        0  STON/O2. 3101282   7.9250   NaN        S  \n",
      "3        0            113803  53.1000  C123        S  \n",
      "4        0            373450   8.0500   NaN        S  \n",
      "..     ...               ...      ...   ...      ...  \n",
      "886      0            211536  13.0000   NaN        S  \n",
      "887      0            112053  30.0000   B42        S  \n",
      "888      2        W./C. 6607  23.4500   NaN        S  \n",
      "889      0            111369  30.0000  C148        C  \n",
      "890      0            370376   7.7500   NaN        Q  \n",
      "\n",
      "[891 rows x 12 columns]\n"
     ]
    }
   ],
   "source": [
    "print(df)"
   ]
  },
  {
   "cell_type": "code",
   "execution_count": 4,
   "id": "126c4931-c993-4670-89ed-a56cd5886c76",
   "metadata": {},
   "outputs": [
    {
     "name": "stdout",
     "output_type": "stream",
     "text": [
      "   PassengerId  Survived  Pclass  \\\n",
      "0            1         0       3   \n",
      "1            2         1       1   \n",
      "2            3         1       3   \n",
      "3            4         1       1   \n",
      "4            5         0       3   \n",
      "\n",
      "                                                Name     Sex   Age  SibSp  \\\n",
      "0                            Braund, Mr. Owen Harris    male  22.0      1   \n",
      "1  Cumings, Mrs. John Bradley (Florence Briggs Th...  female  38.0      1   \n",
      "2                             Heikkinen, Miss. Laina  female  26.0      0   \n",
      "3       Futrelle, Mrs. Jacques Heath (Lily May Peel)  female  35.0      1   \n",
      "4                           Allen, Mr. William Henry    male  35.0      0   \n",
      "\n",
      "   Parch            Ticket     Fare Cabin Embarked  \n",
      "0      0         A/5 21171   7.2500   NaN        S  \n",
      "1      0          PC 17599  71.2833   C85        C  \n",
      "2      0  STON/O2. 3101282   7.9250   NaN        S  \n",
      "3      0            113803  53.1000  C123        S  \n",
      "4      0            373450   8.0500   NaN        S  \n"
     ]
    }
   ],
   "source": [
    "print(df.head())"
   ]
  },
  {
   "cell_type": "code",
   "execution_count": 15,
   "id": "795a52cc-3b46-4914-80e1-c8d94b267090",
   "metadata": {},
   "outputs": [
    {
     "name": "stdout",
     "output_type": "stream",
     "text": [
      "shape of the dataframe: (891, 12)\n",
      "shape of the dateframe: (891, 12)\n"
     ]
    }
   ],
   "source": [
    "#shape of the dataframe\n",
    "print(\"shape of the dataframe:\", df.shape)\n",
    "print(\"shape of the dateframe:\",df.shape)\n"
   ]
  },
  {
   "cell_type": "code",
   "execution_count": 18,
   "id": "2357936f-c02c-4625-8581-b7c1fe9de9e5",
   "metadata": {},
   "outputs": [
    {
     "name": "stdout",
     "output_type": "stream",
     "text": [
      "Column names: Index(['PassengerId', 'Survived', 'Pclass', 'Name', 'Sex', 'Age', 'SibSp',\n",
      "       'Parch', 'Ticket', 'Fare', 'Cabin', 'Embarked'],\n",
      "      dtype='object')\n",
      "Column names: Index(['PassengerId', 'Survived', 'Pclass', 'Name', 'Sex', 'Age', 'SibSp',\n",
      "       'Parch', 'Ticket', 'Fare', 'Cabin', 'Embarked'],\n",
      "      dtype='object')\n"
     ]
    }
   ],
   "source": [
    "#column names\n",
    "print(\"Column names:\", df.columns)\n",
    "print('Column names:',df.columns)"
   ]
  },
  {
   "cell_type": "code",
   "execution_count": 24,
   "id": "92c2508e-c417-4495-b61c-c49080643200",
   "metadata": {},
   "outputs": [
    {
     "name": "stdout",
     "output_type": "stream",
     "text": [
      "Missing values:\n",
      " PassengerId      0\n",
      "Survived         0\n",
      "Pclass           0\n",
      "Name             0\n",
      "Sex              0\n",
      "Age            177\n",
      "SibSp            0\n",
      "Parch            0\n",
      "Ticket           0\n",
      "Fare             0\n",
      "Cabin          687\n",
      "Embarked         2\n",
      "dtype: int64\n"
     ]
    }
   ],
   "source": [
    "#check the missing values\n",
    "print('Missing values:\\n', df.isnull().sum())"
   ]
  },
  {
   "cell_type": "code",
   "execution_count": 27,
   "id": "37cbbff3-42c3-4795-9c82-88955985f6f7",
   "metadata": {},
   "outputs": [
    {
     "name": "stdout",
     "output_type": "stream",
     "text": [
      "PassengerId      0\n",
      "Survived         0\n",
      "Pclass           0\n",
      "Name             0\n",
      "Sex              0\n",
      "Age            177\n",
      "SibSp            0\n",
      "Parch            0\n",
      "Ticket           0\n",
      "Fare             0\n",
      "Cabin          687\n",
      "Embarked         2\n",
      "dtype: int64\n"
     ]
    }
   ],
   "source": [
    "#Practice -Check the Missing values \n",
    "print(df.isnull().sum())\n"
   ]
  },
  {
   "cell_type": "code",
   "execution_count": 28,
   "id": "a9d59a78-8ade-4ef9-8c09-82767583a3ba",
   "metadata": {},
   "outputs": [
    {
     "name": "stdout",
     "output_type": "stream",
     "text": [
      "       PassengerId    Survived      Pclass         Age       SibSp  \\\n",
      "count   891.000000  891.000000  891.000000  714.000000  891.000000   \n",
      "mean    446.000000    0.383838    2.308642   29.699118    0.523008   \n",
      "std     257.353842    0.486592    0.836071   14.526497    1.102743   \n",
      "min       1.000000    0.000000    1.000000    0.420000    0.000000   \n",
      "25%     223.500000    0.000000    2.000000   20.125000    0.000000   \n",
      "50%     446.000000    0.000000    3.000000   28.000000    0.000000   \n",
      "75%     668.500000    1.000000    3.000000   38.000000    1.000000   \n",
      "max     891.000000    1.000000    3.000000   80.000000    8.000000   \n",
      "\n",
      "            Parch        Fare  \n",
      "count  891.000000  891.000000  \n",
      "mean     0.381594   32.204208  \n",
      "std      0.806057   49.693429  \n",
      "min      0.000000    0.000000  \n",
      "25%      0.000000    7.910400  \n",
      "50%      0.000000   14.454200  \n",
      "75%      0.000000   31.000000  \n",
      "max      6.000000  512.329200  \n"
     ]
    }
   ],
   "source": [
    "#Statistical Summary\n",
    "print (df.describe())"
   ]
  },
  {
   "cell_type": "code",
   "execution_count": 31,
   "id": "b79e0d72-b3df-42cb-af84-503547a48f89",
   "metadata": {},
   "outputs": [
    {
     "name": "stdout",
     "output_type": "stream",
     "text": [
      "Fare\n",
      "8.0500     43\n",
      "13.0000    42\n",
      "7.8958     38\n",
      "7.7500     34\n",
      "26.0000    31\n",
      "           ..\n",
      "35.0000     1\n",
      "28.5000     1\n",
      "6.2375      1\n",
      "14.0000     1\n",
      "10.5167     1\n",
      "Name: count, Length: 248, dtype: int64\n"
     ]
    }
   ],
   "source": [
    "#Count Unique values for a column\n",
    "print(df['Fare'].value_counts())\n",
    "#PRACTICE COUNT UNIQUE VALUES\n",
    "print(df['Fare'].value_counts())"
   ]
  },
  {
   "cell_type": "code",
   "execution_count": 33,
   "id": "3018fcec-3640-41ff-8fa4-db4760b1c0f3",
   "metadata": {},
   "outputs": [
    {
     "name": "stdout",
     "output_type": "stream",
     "text": [
      "    PassengerId  Survived  Pclass                         Name   Sex   Age  \\\n",
      "4             5         0       3     Allen, Mr. William Henry  male  35.0   \n",
      "6             7         0       1      McCarthy, Mr. Timothy J  male  54.0   \n",
      "13           14         0       3  Andersson, Mr. Anders Johan  male  39.0   \n",
      "20           21         0       2         Fynney, Mr. Joseph J  male  35.0   \n",
      "21           22         1       2        Beesley, Mr. Lawrence  male  34.0   \n",
      "\n",
      "    SibSp  Parch  Ticket     Fare Cabin Embarked  \n",
      "4       0      0  373450   8.0500   NaN        S  \n",
      "6       0      0   17463  51.8625   E46        S  \n",
      "13      1      5  347082  31.2750   NaN        S  \n",
      "20      0      0  239865  26.0000   NaN        S  \n",
      "21      0      0  248698  13.0000   D56        S  \n"
     ]
    }
   ],
   "source": [
    "#filter data : Passengers are male and their age is above 30\n",
    "male_over_30 = df[(df['Sex']== 'male') & (df['Age'] > 30)]\n",
    "print(male_over_30.head())"
   ]
  },
  {
   "cell_type": "code",
   "execution_count": 43,
   "id": "ebf6b569-099f-46e4-9ae8-d2729e683652",
   "metadata": {},
   "outputs": [
    {
     "name": "stdout",
     "output_type": "stream",
     "text": [
      "     PassengerId  Survived  Pclass                                   Name  \\\n",
      "9             10         1       2    Nasser, Mrs. Nicholas (Adele Achem)   \n",
      "10            11         1       3        Sandstrom, Miss. Marguerite Rut   \n",
      "14            15         0       3   Vestrom, Miss. Hulda Amanda Adolfina   \n",
      "22            23         1       3            McGowan, Miss. Anna \"Annie\"   \n",
      "24            25         0       3          Palsson, Miss. Torborg Danira   \n",
      "..           ...       ...     ...                                    ...   \n",
      "855          856         1       3             Aks, Mrs. Sam (Leah Rosen)   \n",
      "858          859         1       3  Baclini, Mrs. Solomon (Latifa Qurban)   \n",
      "875          876         1       3       Najib, Miss. Adele Kiamie \"Jane\"   \n",
      "882          883         0       3           Dahlberg, Miss. Gerda Ulrika   \n",
      "887          888         1       1           Graham, Miss. Margaret Edith   \n",
      "\n",
      "        Sex   Age  SibSp  Parch   Ticket     Fare Cabin Embarked  \n",
      "9    female  14.0      1      0   237736  30.0708   NaN        C  \n",
      "10   female   4.0      1      1  PP 9549  16.7000    G6        S  \n",
      "14   female  14.0      0      0   350406   7.8542   NaN        S  \n",
      "22   female  15.0      0      0   330923   8.0292   NaN        Q  \n",
      "24   female   8.0      3      1   349909  21.0750   NaN        S  \n",
      "..      ...   ...    ...    ...      ...      ...   ...      ...  \n",
      "855  female  18.0      0      1   392091   9.3500   NaN        S  \n",
      "858  female  24.0      0      3     2666  19.2583   NaN        C  \n",
      "875  female  15.0      0      0     2667   7.2250   NaN        C  \n",
      "882  female  22.0      0      0     7552  10.5167   NaN        S  \n",
      "887  female  19.0      0      0   112053  30.0000   B42        S  \n",
      "\n",
      "[117 rows x 12 columns]\n"
     ]
    }
   ],
   "source": [
    "#filter data :Passengers are female and below 25(Age)\n",
    "female_below_25 = df[(df['Sex'] == 'female') & (df['Age'] < 25)]\n",
    "print(female_below_25)\n"
   ]
  },
  {
   "cell_type": "code",
   "execution_count": 44,
   "id": "883f3bb3-c3e6-4144-bc9e-c8e22e4bba5d",
   "metadata": {},
   "outputs": [
    {
     "name": "stdout",
     "output_type": "stream",
     "text": [
      "average_age: 29.69911764705882\n"
     ]
    }
   ],
   "source": [
    "#Calculate Average of Passengers\n",
    "average_age = df['Age'].mean()\n",
    "print('average_age:',average_age)"
   ]
  },
  {
   "cell_type": "code",
   "execution_count": 48,
   "id": "89b82f87-1334-4d09-ac7b-6bd23206ef4b",
   "metadata": {},
   "outputs": [
    {
     "name": "stdout",
     "output_type": "stream",
     "text": [
      "Pclass\n",
      "1    84.154687\n",
      "2    20.662183\n",
      "3    13.675550\n",
      "Name: Fare, dtype: float64\n"
     ]
    }
   ],
   "source": [
    "#Average fare by passenger class\n",
    "average_fare_by_class = df.groupby('Pclass')['Fare'].mean()\n",
    "print(average_fare_by_class)"
   ]
  },
  {
   "cell_type": "code",
   "execution_count": 55,
   "id": "420e2519-cf7a-4817-b22e-6a44c37ba5c0",
   "metadata": {},
   "outputs": [
    {
     "name": "stdout",
     "output_type": "stream",
     "text": [
      "      Age Age_Group\n",
      "0    22.0     Adult\n",
      "1    38.0     Adult\n",
      "2    26.0     Adult\n",
      "3    35.0     Adult\n",
      "4    35.0     Adult\n",
      "..    ...       ...\n",
      "886  27.0     Adult\n",
      "887  19.0     Adult\n",
      "888   NaN   Unknown\n",
      "889  26.0     Adult\n",
      "890  32.0     Adult\n",
      "\n",
      "[891 rows x 2 columns]\n"
     ]
    }
   ],
   "source": [
    "#Define age classification function\n",
    "def age_group(age):\n",
    "    if pd.isnull(age):\n",
    "        return 'Unknown'\n",
    "    elif age < 18:\n",
    "        return 'Child'\n",
    "    elif age < 60:\n",
    "        return 'Adult'\n",
    "    else :\n",
    "        return 'Senior'\n",
    "df['Age_Group'] = df['Age'].apply(age_group)\n",
    "print(df[['Age','Age_Group']])\n"
   ]
  },
  {
   "cell_type": "code",
   "execution_count": 64,
   "id": "9b83a16c-2c01-4d68-9d97-cfa773b3ef80",
   "metadata": {},
   "outputs": [
    {
     "name": "stdout",
     "output_type": "stream",
     "text": [
      "  Age_Group   Age\n",
      "0     Adult  22.0\n",
      "1     Adult  38.0\n",
      "2     Adult  26.0\n",
      "3     Adult  35.0\n",
      "4     Adult  35.0\n",
      "Age_Group\n",
      "Adult      575\n",
      "Unknown    177\n",
      "Child      113\n",
      "Senior      26\n",
      "Name: count, dtype: int64\n"
     ]
    }
   ],
   "source": [
    "#creating a Age_Group column \n",
    "#Step 1 :creating age group function \n",
    "def age_group(age):\n",
    "    if pd.isnull(age):\n",
    "        return 'Unknown'\n",
    "    elif age < 18:\n",
    "        return 'Child'\n",
    "    elif age < 60:\n",
    "        return 'Adult'\n",
    "    else :\n",
    "        return 'Senior'\n",
    "#Applying age function method\n",
    "df['Age_Group'] = df['Age'].apply(age_group)\n",
    "print(df[['Age_Group','Age']].head())\n",
    "\n",
    "\n",
    "#TASK : How many passengers fall into each Age group:\n",
    "print(df['Age_Group'].value_counts())\n"
   ]
  },
  {
   "cell_type": "code",
   "execution_count": 65,
   "id": "7ca95e50-df1a-425d-a8b8-1ccda3388fb1",
   "metadata": {},
   "outputs": [
    {
     "data": {
      "image/png": "[encoded data removed]",
      "text/plain": [
       "<Figure size 640x480 with 1 Axes>"
      ]
     },
     "metadata": {},
     "output_type": "display_data"
    }
   ],
   "source": [
    "#10.Creating Data Vizulization graph\n",
    "#BarPlot - Passengers across different Pclass categories\n",
    "import matplotlib.pyplot as plt\n",
    "#Bar plot for Passenger distribution by class\n",
    "df['Pclass'].value_counts().sort_index().plot(kind='bar')\n",
    "plt.title('Passenger Distribution by Class')\n",
    "plt.xlabel('Passenger Class')\n",
    "plt.ylabel('Number of Passengers')\n",
    "plt.show()\n"
   ]
  }
 ],
 "metadata": {
  "kernelspec": {
   "display_name": "Python 3 (ipykernel)",
   "language": "python",
   "name": "python3"
  },
  "language_info": {
   "codemirror_mode": {
    "name": "ipython",
    "version": 3
   },
   "file_extension": ".py",
   "mimetype": "text/x-python",
   "name": "python",
   "nbconvert_exporter": "python",
   "pygments_lexer": "ipython3",
   "version": "3.12.4"
  }
 },
 "nbformat": 4,
 "nbformat_minor": 5
}
